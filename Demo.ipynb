{
 "cells": [
  {
   "cell_type": "code",
   "execution_count": 51,
   "metadata": {},
   "outputs": [],
   "source": [
    "import pandas as pd\n",
    "import lightgbm as lgb\n",
    "from sklearn.model_selection import train_test_split\n",
    "import datetime\n",
    "from dateutil.parser import parse\n",
    "from re import sub\n",
    "from sklearn.model_selection import cross_validate"
   ]
  },
  {
   "cell_type": "code",
   "execution_count": 2,
   "metadata": {},
   "outputs": [],
   "source": [
    "def handle_Xdata(data_df:pd.DataFrame):\n",
    "    #handle money\n",
    "    money_f = [\"DisbursementGross\",\"BalanceGross\",\"GrAppv\",\"SBA_Appv\"]\n",
    "    for f in money_f:\n",
    "        data_df[f] = data_df[f].fillna(\"0\") #don't exist actually\n",
    "        value_list = []\n",
    "        data_df[f] = list(map(lambda s: float(sub(r'[^\\d.]', '', s)), data_df[f].values))\n",
    "    \n",
    "    # diff day\n",
    "    diff_days = []\n",
    "    for d1,d2 in zip(data_df.DisbursementDate, data_df.ApprovalDate):\n",
    "        try:\n",
    "            diff_days.append((parse(d1)-parse(d2)).days)\n",
    "        except:\n",
    "            diff_days.append(-100000)\n",
    "    # datetime.datetime.strptime(\"16-Apr-10\", '%d-%m-%Y').date()\n",
    "    data_df['diff_days'] = diff_days\n",
    "    mean_day = data_df[data_df['diff_days']!=-100000].diff_days.describe()['mean'] #use mean to fill nan\n",
    "\n",
    "    diff_days = []\n",
    "    for d1,d2 in zip(data_df.DisbursementDate, data_df.ApprovalDate):\n",
    "        try:\n",
    "            diff_days.append((parse(d1)-parse(d2)).days)\n",
    "        except:\n",
    "            diff_days.append(round(mean_day))\n",
    "    data_df['diff_days'] = diff_days\n",
    "    \n",
    "    #drop \n",
    "    columns_to_drop = [\"Id\",\"Name\",\"ApprovalDate\", \"DisbursementDate\"]\n",
    "    data_df = data_df.drop(columns=columns_to_drop, axis=1)\n",
    "    \n",
    "    #change type\n",
    "    category_features = ['City', 'State',\"Zip\", 'Bank', \n",
    "                     'BankState',\"NAICS\", \"FranchiseCode\",\n",
    "                     'ApprovalFY', 'RevLineCr', \"UrbanRural\",\n",
    "                     \"NewExist\",'LowDoc']\n",
    "    for f in category_features:\n",
    "        data_df[f] = data_df[f].astype(\"category\")\n",
    "    return data_df"
   ]
  },
  {
   "cell_type": "code",
   "execution_count": 3,
   "metadata": {},
   "outputs": [
    {
     "ename": "NameError",
     "evalue": "name 'data' is not defined",
     "output_type": "error",
     "traceback": [
      "\u001b[0;31m---------------------------------------------------------------------------\u001b[0m",
      "\u001b[0;31mNameError\u001b[0m                                 Traceback (most recent call last)",
      "\u001b[0;32m<ipython-input-3-64b49a9d9255>\u001b[0m in \u001b[0;36m<module>\u001b[0;34m\u001b[0m\n\u001b[0;32m----> 1\u001b[0;31m \u001b[0mlen\u001b[0m\u001b[0;34m(\u001b[0m\u001b[0mdata\u001b[0m\u001b[0;34m.\u001b[0m\u001b[0mNAICS\u001b[0m\u001b[0;34m.\u001b[0m\u001b[0mvalue_counts\u001b[0m\u001b[0;34m(\u001b[0m\u001b[0;34m)\u001b[0m\u001b[0;34m)\u001b[0m\u001b[0;34m\u001b[0m\u001b[0;34m\u001b[0m\u001b[0m\n\u001b[0m",
      "\u001b[0;31mNameError\u001b[0m: name 'data' is not defined"
     ]
    }
   ],
   "source": [
    "len(data.NAICS.value_counts())"
   ]
  },
  {
   "cell_type": "code",
   "execution_count": 35,
   "metadata": {},
   "outputs": [
    {
     "data": {
      "text/plain": [
       "CA    7257\n",
       "NC    5590\n",
       "IL    4029\n",
       "OH    3072\n",
       "SD    2955\n",
       "RI    2679\n",
       "TX    2451\n",
       "VA    2363\n",
       "NY    2148\n",
       "DE    1565\n",
       "UT    1032\n",
       "MN     828\n",
       "MO     769\n",
       "WI     751\n",
       "PA     736\n",
       "FL     726\n",
       "OR     677\n",
       "GA     639\n",
       "AL     637\n",
       "MA     561\n",
       "CT     514\n",
       "IA     470\n",
       "CO     463\n",
       "WA     441\n",
       "KS     426\n",
       "NJ     414\n",
       "SC     382\n",
       "IN     351\n",
       "OK     343\n",
       "AR     328\n",
       "MT     305\n",
       "MI     300\n",
       "MD     298\n",
       "NH     271\n",
       "MS     258\n",
       "NE     254\n",
       "TN     242\n",
       "LA     239\n",
       "ND     230\n",
       "KY     220\n",
       "NV     201\n",
       "ID     195\n",
       "VT     191\n",
       "NM     188\n",
       "DC     176\n",
       "ME     175\n",
       "AZ     161\n",
       "HI     141\n",
       "WV     105\n",
       "WY      97\n",
       "AK      70\n",
       "PR       9\n",
       "Name: BankState, dtype: int64"
      ]
     },
     "execution_count": 35,
     "metadata": {},
     "output_type": "execute_result"
    }
   ],
   "source": [
    "data.BankState.value_counts()"
   ]
  },
  {
   "cell_type": "code",
   "execution_count": 5,
   "metadata": {},
   "outputs": [],
   "source": [
    "data = pd.read_csv(\"Xtrain.csv\")\n",
    "data_y = pd.read_csv(\"Ytrain.csv\")"
   ]
  },
  {
   "cell_type": "code",
   "execution_count": 4,
   "metadata": {},
   "outputs": [
    {
     "data": {
      "text/plain": [
       "Id                   False\n",
       "Name                  True\n",
       "City                 False\n",
       "State                False\n",
       "Zip                  False\n",
       "Bank                  True\n",
       "BankState             True\n",
       "NAICS                False\n",
       "ApprovalDate         False\n",
       "ApprovalFY           False\n",
       "Term                 False\n",
       "NoEmp                False\n",
       "NewExist              True\n",
       "CreateJob            False\n",
       "RetainedJob          False\n",
       "FranchiseCode        False\n",
       "UrbanRural           False\n",
       "RevLineCr             True\n",
       "LowDoc                True\n",
       "DisbursementDate      True\n",
       "DisbursementGross    False\n",
       "BalanceGross         False\n",
       "GrAppv               False\n",
       "SBA_Appv             False\n",
       "dtype: bool"
      ]
     },
     "execution_count": 4,
     "metadata": {},
     "output_type": "execute_result"
    }
   ],
   "source": [
    "data.isnull().any()"
   ]
  },
  {
   "cell_type": "code",
   "execution_count": 6,
   "metadata": {},
   "outputs": [],
   "source": [
    "data_X = handle_Xdata(data)\n",
    "data_y = data_y.drop(['Id'],axis=1)"
   ]
  },
  {
   "cell_type": "code",
   "execution_count": null,
   "metadata": {},
   "outputs": [],
   "source": []
  },
  {
   "cell_type": "code",
   "execution_count": 6,
   "metadata": {},
   "outputs": [
    {
     "data": {
      "text/plain": [
       "City                 category\n",
       "State                category\n",
       "Zip                  category\n",
       "Bank                 category\n",
       "BankState            category\n",
       "NAICS                category\n",
       "ApprovalFY           category\n",
       "Term                    int64\n",
       "NoEmp                   int64\n",
       "NewExist             category\n",
       "CreateJob               int64\n",
       "RetainedJob             int64\n",
       "FranchiseCode        category\n",
       "UrbanRural           category\n",
       "RevLineCr            category\n",
       "LowDoc               category\n",
       "DisbursementGross     float64\n",
       "BalanceGross          float64\n",
       "GrAppv                float64\n",
       "SBA_Appv              float64\n",
       "diff_days               int64\n",
       "dtype: object"
      ]
     },
     "execution_count": 6,
     "metadata": {},
     "output_type": "execute_result"
    }
   ],
   "source": [
    "data_X.dtypes"
   ]
  },
  {
   "cell_type": "code",
   "execution_count": 36,
   "metadata": {},
   "outputs": [],
   "source": [
    "category_features = ['City', 'State',\"Zip\", 'Bank', \n",
    "                     'BankState',\"NAICS\", \"FranchiseCode\",\n",
    "                     'ApprovalFY', 'RevLineCr', \"UrbanRural\",\n",
    "                     \"NewExist\",'LowDoc']\n",
    "trainX,testX,trainY,testY = train_test_split(data_X,data_y,test_size=0.3,random_state=0)\n",
    "train_data = lgb.Dataset(trainX,label=trainY,categorical_feature=category_features)\n",
    "val_data = lgb.Dataset(testX,label=testY,categorical_feature=category_features, reference=train_data)"
   ]
  },
  {
   "cell_type": "code",
   "execution_count": 37,
   "metadata": {},
   "outputs": [],
   "source": [
    "params = {'num_leaves': 128, #结果对最终效果影响较大，越大值越好，太大会出现过拟合\n",
    "          'min_data_in_leaf': 30,\n",
    "          'objective': 'binary', #定义的目标函数\n",
    "          'max_depth': -1,\n",
    "          'learning_rate': 0.03,\n",
    "          \"min_sum_hessian_in_leaf\": 6,\n",
    "          \"boosting\": \"gbdt\",\n",
    "          \"feature_fraction\": 0.9,  #提取的特征比率\n",
    "          \"bagging_freq\": 1,\n",
    "          \"bagging_fraction\": 0.8,\n",
    "          \"bagging_seed\": 11,\n",
    "#           \"lambda_l1\": 0.1,             #l1正则\n",
    "          'lambda_l2': 0.001,     #l2正则\n",
    "          \"verbosity\": -1,\n",
    "          \"nthread\": -1,                #线程数量，-1表示全部线程，线程越多，运行的速度越快\n",
    "          'metric': {'binary_logloss', 'auc'},  ##评价函数选择\n",
    "          \"random_state\": 0, #随机数种子，可以防止每次运行的结果不一致\n",
    "          }"
   ]
  },
  {
   "cell_type": "code",
   "execution_count": 49,
   "metadata": {},
   "outputs": [],
   "source": [
    "a = lgb.LGBMClassifier(params=params)"
   ]
  },
  {
   "cell_type": "code",
   "execution_count": 50,
   "metadata": {},
   "outputs": [
    {
     "ename": "TypeError",
     "evalue": "fit() missing 2 required positional arguments: 'X' and 'y'",
     "output_type": "error",
     "traceback": [
      "\u001b[0;31m---------------------------------------------------------------------------\u001b[0m",
      "\u001b[0;31mTypeError\u001b[0m                                 Traceback (most recent call last)",
      "\u001b[0;32m<ipython-input-50-733cf20c5bf9>\u001b[0m in \u001b[0;36m<module>\u001b[0;34m\u001b[0m\n\u001b[0;32m----> 1\u001b[0;31m \u001b[0ma\u001b[0m\u001b[0;34m.\u001b[0m\u001b[0mfit\u001b[0m\u001b[0;34m(\u001b[0m\u001b[0;34m)\u001b[0m\u001b[0;34m\u001b[0m\u001b[0;34m\u001b[0m\u001b[0m\n\u001b[0m",
      "\u001b[0;31mTypeError\u001b[0m: fit() missing 2 required positional arguments: 'X' and 'y'"
     ]
    }
   ],
   "source": [
    "cross_validate"
   ]
  },
  {
   "cell_type": "code",
   "execution_count": 38,
   "metadata": {},
   "outputs": [
    {
     "name": "stdout",
     "output_type": "stream",
     "text": [
      "Training until validation scores don't improve for 500 rounds\n",
      "[10]\ttraining's auc: 0.975773\ttraining's binary_logloss: 0.523261\tvalid_1's auc: 0.969951\tvalid_1's binary_logloss: 0.528475\n",
      "[20]\ttraining's auc: 0.977566\ttraining's binary_logloss: 0.422421\tvalid_1's auc: 0.971022\tvalid_1's binary_logloss: 0.43174\n",
      "[30]\ttraining's auc: 0.978996\ttraining's binary_logloss: 0.352699\tvalid_1's auc: 0.971853\tvalid_1's binary_logloss: 0.365715\n",
      "[40]\ttraining's auc: 0.980187\ttraining's binary_logloss: 0.303057\tvalid_1's auc: 0.972678\tvalid_1's binary_logloss: 0.319498\n",
      "[50]\ttraining's auc: 0.981426\ttraining's binary_logloss: 0.266996\tvalid_1's auc: 0.97332\tvalid_1's binary_logloss: 0.286961\n",
      "[60]\ttraining's auc: 0.982665\ttraining's binary_logloss: 0.241354\tvalid_1's auc: 0.973837\tvalid_1's binary_logloss: 0.264853\n",
      "[70]\ttraining's auc: 0.983702\ttraining's binary_logloss: 0.220404\tvalid_1's auc: 0.974161\tvalid_1's binary_logloss: 0.247597\n",
      "[80]\ttraining's auc: 0.985019\ttraining's binary_logloss: 0.204147\tvalid_1's auc: 0.974558\tvalid_1's binary_logloss: 0.235459\n",
      "[90]\ttraining's auc: 0.98621\ttraining's binary_logloss: 0.190936\tvalid_1's auc: 0.974972\tvalid_1's binary_logloss: 0.226286\n",
      "[100]\ttraining's auc: 0.987247\ttraining's binary_logloss: 0.178827\tvalid_1's auc: 0.975278\tvalid_1's binary_logloss: 0.218334\n",
      "[110]\ttraining's auc: 0.988434\ttraining's binary_logloss: 0.169091\tvalid_1's auc: 0.975727\tvalid_1's binary_logloss: 0.212798\n",
      "[120]\ttraining's auc: 0.989457\ttraining's binary_logloss: 0.160159\tvalid_1's auc: 0.976002\tvalid_1's binary_logloss: 0.208146\n",
      "[130]\ttraining's auc: 0.990473\ttraining's binary_logloss: 0.152213\tvalid_1's auc: 0.976111\tvalid_1's binary_logloss: 0.204904\n",
      "[140]\ttraining's auc: 0.991361\ttraining's binary_logloss: 0.144893\tvalid_1's auc: 0.976263\tvalid_1's binary_logloss: 0.202049\n",
      "[150]\ttraining's auc: 0.992265\ttraining's binary_logloss: 0.138086\tvalid_1's auc: 0.976428\tvalid_1's binary_logloss: 0.199862\n",
      "[160]\ttraining's auc: 0.993094\ttraining's binary_logloss: 0.131779\tvalid_1's auc: 0.97649\tvalid_1's binary_logloss: 0.198221\n",
      "[170]\ttraining's auc: 0.993832\ttraining's binary_logloss: 0.126103\tvalid_1's auc: 0.976544\tvalid_1's binary_logloss: 0.197013\n",
      "[180]\ttraining's auc: 0.994508\ttraining's binary_logloss: 0.121094\tvalid_1's auc: 0.97652\tvalid_1's binary_logloss: 0.196426\n",
      "[190]\ttraining's auc: 0.995138\ttraining's binary_logloss: 0.116342\tvalid_1's auc: 0.976445\tvalid_1's binary_logloss: 0.19618\n",
      "[200]\ttraining's auc: 0.995669\ttraining's binary_logloss: 0.111833\tvalid_1's auc: 0.976459\tvalid_1's binary_logloss: 0.195516\n",
      "[210]\ttraining's auc: 0.996177\ttraining's binary_logloss: 0.107673\tvalid_1's auc: 0.976461\tvalid_1's binary_logloss: 0.195188\n",
      "[220]\ttraining's auc: 0.99662\ttraining's binary_logloss: 0.103785\tvalid_1's auc: 0.976422\tvalid_1's binary_logloss: 0.194988\n",
      "[230]\ttraining's auc: 0.99703\ttraining's binary_logloss: 0.100036\tvalid_1's auc: 0.976355\tvalid_1's binary_logloss: 0.194932\n",
      "[240]\ttraining's auc: 0.997383\ttraining's binary_logloss: 0.0965611\tvalid_1's auc: 0.976377\tvalid_1's binary_logloss: 0.194619\n",
      "[250]\ttraining's auc: 0.997707\ttraining's binary_logloss: 0.0931778\tvalid_1's auc: 0.976366\tvalid_1's binary_logloss: 0.194404\n",
      "[260]\ttraining's auc: 0.998001\ttraining's binary_logloss: 0.089902\tvalid_1's auc: 0.976339\tvalid_1's binary_logloss: 0.194327\n",
      "[270]\ttraining's auc: 0.99827\ttraining's binary_logloss: 0.0868783\tvalid_1's auc: 0.976271\tvalid_1's binary_logloss: 0.194427\n",
      "[280]\ttraining's auc: 0.998501\ttraining's binary_logloss: 0.0840244\tvalid_1's auc: 0.976225\tvalid_1's binary_logloss: 0.194477\n",
      "[290]\ttraining's auc: 0.998705\ttraining's binary_logloss: 0.0812097\tvalid_1's auc: 0.976176\tvalid_1's binary_logloss: 0.194541\n",
      "[300]\ttraining's auc: 0.998879\ttraining's binary_logloss: 0.0785481\tvalid_1's auc: 0.976204\tvalid_1's binary_logloss: 0.194392\n",
      "[310]\ttraining's auc: 0.999043\ttraining's binary_logloss: 0.0762075\tvalid_1's auc: 0.97617\tvalid_1's binary_logloss: 0.194495\n",
      "[320]\ttraining's auc: 0.999175\ttraining's binary_logloss: 0.0738264\tvalid_1's auc: 0.976151\tvalid_1's binary_logloss: 0.194536\n",
      "[330]\ttraining's auc: 0.999297\ttraining's binary_logloss: 0.0715012\tvalid_1's auc: 0.976109\tvalid_1's binary_logloss: 0.194717\n",
      "[340]\ttraining's auc: 0.999399\ttraining's binary_logloss: 0.0691951\tvalid_1's auc: 0.976118\tvalid_1's binary_logloss: 0.194626\n",
      "[350]\ttraining's auc: 0.999485\ttraining's binary_logloss: 0.0670984\tvalid_1's auc: 0.97613\tvalid_1's binary_logloss: 0.1946\n",
      "[360]\ttraining's auc: 0.999564\ttraining's binary_logloss: 0.0650852\tvalid_1's auc: 0.976089\tvalid_1's binary_logloss: 0.19472\n",
      "[370]\ttraining's auc: 0.999627\ttraining's binary_logloss: 0.0631498\tvalid_1's auc: 0.976082\tvalid_1's binary_logloss: 0.194771\n",
      "[380]\ttraining's auc: 0.99969\ttraining's binary_logloss: 0.0613123\tvalid_1's auc: 0.976048\tvalid_1's binary_logloss: 0.194959\n",
      "[390]\ttraining's auc: 0.999735\ttraining's binary_logloss: 0.0595931\tvalid_1's auc: 0.975984\tvalid_1's binary_logloss: 0.195191\n",
      "[400]\ttraining's auc: 0.999781\ttraining's binary_logloss: 0.0579357\tvalid_1's auc: 0.975938\tvalid_1's binary_logloss: 0.195444\n",
      "[410]\ttraining's auc: 0.999813\ttraining's binary_logloss: 0.0562369\tvalid_1's auc: 0.975967\tvalid_1's binary_logloss: 0.19534\n",
      "[420]\ttraining's auc: 0.999846\ttraining's binary_logloss: 0.0546287\tvalid_1's auc: 0.975962\tvalid_1's binary_logloss: 0.195408\n",
      "[430]\ttraining's auc: 0.999869\ttraining's binary_logloss: 0.0531009\tvalid_1's auc: 0.975952\tvalid_1's binary_logloss: 0.195511\n",
      "[440]\ttraining's auc: 0.99989\ttraining's binary_logloss: 0.0516566\tvalid_1's auc: 0.975903\tvalid_1's binary_logloss: 0.195781\n",
      "[450]\ttraining's auc: 0.999907\ttraining's binary_logloss: 0.0503011\tvalid_1's auc: 0.975875\tvalid_1's binary_logloss: 0.196019\n",
      "[460]\ttraining's auc: 0.999922\ttraining's binary_logloss: 0.0489903\tvalid_1's auc: 0.975853\tvalid_1's binary_logloss: 0.196263\n",
      "[470]\ttraining's auc: 0.999934\ttraining's binary_logloss: 0.0476852\tvalid_1's auc: 0.975827\tvalid_1's binary_logloss: 0.196458\n",
      "[480]\ttraining's auc: 0.999945\ttraining's binary_logloss: 0.0465106\tvalid_1's auc: 0.975815\tvalid_1's binary_logloss: 0.196601\n",
      "[490]\ttraining's auc: 0.999954\ttraining's binary_logloss: 0.0453444\tvalid_1's auc: 0.975791\tvalid_1's binary_logloss: 0.196824\n",
      "[500]\ttraining's auc: 0.99996\ttraining's binary_logloss: 0.0442354\tvalid_1's auc: 0.975709\tvalid_1's binary_logloss: 0.197287\n",
      "[510]\ttraining's auc: 0.999966\ttraining's binary_logloss: 0.043183\tvalid_1's auc: 0.975665\tvalid_1's binary_logloss: 0.197634\n",
      "[520]\ttraining's auc: 0.99997\ttraining's binary_logloss: 0.0421197\tvalid_1's auc: 0.975684\tvalid_1's binary_logloss: 0.197683\n",
      "[530]\ttraining's auc: 0.999973\ttraining's binary_logloss: 0.0411461\tvalid_1's auc: 0.975655\tvalid_1's binary_logloss: 0.19796\n",
      "[540]\ttraining's auc: 0.999975\ttraining's binary_logloss: 0.0401443\tvalid_1's auc: 0.97564\tvalid_1's binary_logloss: 0.198186\n",
      "[550]\ttraining's auc: 0.999977\ttraining's binary_logloss: 0.0392382\tvalid_1's auc: 0.97564\tvalid_1's binary_logloss: 0.198411\n",
      "[560]\ttraining's auc: 0.999979\ttraining's binary_logloss: 0.0383841\tvalid_1's auc: 0.975633\tvalid_1's binary_logloss: 0.198602\n",
      "[570]\ttraining's auc: 0.999982\ttraining's binary_logloss: 0.0375578\tvalid_1's auc: 0.975611\tvalid_1's binary_logloss: 0.198843\n",
      "[580]\ttraining's auc: 0.999983\ttraining's binary_logloss: 0.0367484\tvalid_1's auc: 0.97558\tvalid_1's binary_logloss: 0.199123\n",
      "[590]\ttraining's auc: 0.999984\ttraining's binary_logloss: 0.035964\tvalid_1's auc: 0.975613\tvalid_1's binary_logloss: 0.199209\n",
      "[600]\ttraining's auc: 0.999985\ttraining's binary_logloss: 0.0352121\tvalid_1's auc: 0.975586\tvalid_1's binary_logloss: 0.199461\n",
      "[610]\ttraining's auc: 0.999986\ttraining's binary_logloss: 0.0344659\tvalid_1's auc: 0.975556\tvalid_1's binary_logloss: 0.199837\n",
      "[620]\ttraining's auc: 0.999987\ttraining's binary_logloss: 0.0337792\tvalid_1's auc: 0.975523\tvalid_1's binary_logloss: 0.200175\n",
      "[630]\ttraining's auc: 0.999987\ttraining's binary_logloss: 0.0331033\tvalid_1's auc: 0.975557\tvalid_1's binary_logloss: 0.200193\n",
      "[640]\ttraining's auc: 0.999987\ttraining's binary_logloss: 0.0324255\tvalid_1's auc: 0.975543\tvalid_1's binary_logloss: 0.200444\n",
      "[650]\ttraining's auc: 0.999988\ttraining's binary_logloss: 0.0318262\tvalid_1's auc: 0.975508\tvalid_1's binary_logloss: 0.200774\n",
      "[660]\ttraining's auc: 0.999988\ttraining's binary_logloss: 0.031195\tvalid_1's auc: 0.975532\tvalid_1's binary_logloss: 0.200865\n"
     ]
    },
    {
     "name": "stdout",
     "output_type": "stream",
     "text": [
      "Early stopping, best iteration is:\n",
      "[169]\ttraining's auc: 0.993759\ttraining's binary_logloss: 0.12662\tvalid_1's auc: 0.976551\tvalid_1's binary_logloss: 0.197037\n"
     ]
    }
   ],
   "source": [
    "res = lgb.train(params,train_set=train_data,\n",
    "          valid_sets=[train_data,val_data], \n",
    "          num_boost_round=3000,\n",
    "          verbose_eval=10,\n",
    "          early_stopping_rounds=500)"
   ]
  },
  {
   "cell_type": "code",
   "execution_count": 10,
   "metadata": {},
   "outputs": [
    {
     "name": "stderr",
     "output_type": "stream",
     "text": [
      "/Users/renxinyu/anaconda3/envs/nus_hw/lib/python3.6/site-packages/IPython/core/interactiveshell.py:3072: DtypeWarning: Columns (9) have mixed types.Specify dtype option on import or set low_memory=False.\n",
      "  interactivity=interactivity, compiler=compiler, result=result)\n"
     ]
    }
   ],
   "source": [
    "Xtest = pd.read_csv(\"Xtest.csv\")\n",
    "input_data = handle_Xdata(Xtest)"
   ]
  },
  {
   "cell_type": "code",
   "execution_count": 11,
   "metadata": {},
   "outputs": [],
   "source": [
    "def replace_v(v):\n",
    "    if(v==1 or v==0):\n",
    "        return v\n",
    "    else:\n",
    "        return 1\n",
    "input_data['FranchiseCode'] = list(map(replace_v, input_data['FranchiseCode'].values))\n",
    "input_data['FranchiseCode'] = input_data['FranchiseCode'].astype(\"category\")"
   ]
  },
  {
   "cell_type": "code",
   "execution_count": 15,
   "metadata": {},
   "outputs": [
    {
     "data": {
      "text/plain": [
       "City                 category\n",
       "State                category\n",
       "Zip                  category\n",
       "Bank                 category\n",
       "BankState            category\n",
       "NAICS                category\n",
       "ApprovalFY           category\n",
       "Term                    int64\n",
       "NoEmp                   int64\n",
       "NewExist             category\n",
       "CreateJob               int64\n",
       "RetainedJob             int64\n",
       "FranchiseCode        category\n",
       "UrbanRural           category\n",
       "RevLineCr            category\n",
       "LowDoc               category\n",
       "DisbursementGross     float64\n",
       "BalanceGross          float64\n",
       "GrAppv                float64\n",
       "SBA_Appv              float64\n",
       "diff_days               int64\n",
       "dtype: object"
      ]
     },
     "execution_count": 15,
     "metadata": {},
     "output_type": "execute_result"
    }
   ],
   "source": [
    "input_data.dtypes"
   ]
  },
  {
   "cell_type": "code",
   "execution_count": 43,
   "metadata": {},
   "outputs": [
    {
     "data": {
      "text/plain": [
       "['_Booster__attr',\n",
       " '_Booster__boost',\n",
       " '_Booster__get_eval_info',\n",
       " '_Booster__higher_better_inner_eval',\n",
       " '_Booster__init_predictor',\n",
       " '_Booster__inner_eval',\n",
       " '_Booster__inner_predict',\n",
       " '_Booster__inner_predict_buffer',\n",
       " '_Booster__is_predicted_cur_iter',\n",
       " '_Booster__name_inner_eval',\n",
       " '_Booster__need_reload_eval_info',\n",
       " '_Booster__num_class',\n",
       " '_Booster__num_dataset',\n",
       " '_Booster__num_inner_eval',\n",
       " '_Booster__set_objective_to_none',\n",
       " '__class__',\n",
       " '__copy__',\n",
       " '__deepcopy__',\n",
       " '__del__',\n",
       " '__delattr__',\n",
       " '__dict__',\n",
       " '__dir__',\n",
       " '__doc__',\n",
       " '__eq__',\n",
       " '__format__',\n",
       " '__ge__',\n",
       " '__getattribute__',\n",
       " '__getstate__',\n",
       " '__gt__',\n",
       " '__hash__',\n",
       " '__init__',\n",
       " '__init_subclass__',\n",
       " '__le__',\n",
       " '__lt__',\n",
       " '__module__',\n",
       " '__ne__',\n",
       " '__new__',\n",
       " '__reduce__',\n",
       " '__reduce_ex__',\n",
       " '__repr__',\n",
       " '__setattr__',\n",
       " '__setstate__',\n",
       " '__sizeof__',\n",
       " '__str__',\n",
       " '__subclasshook__',\n",
       " '__weakref__',\n",
       " '_free_buffer',\n",
       " '_to_predictor',\n",
       " '_train_data_name',\n",
       " 'add_valid',\n",
       " 'attr',\n",
       " 'best_iteration',\n",
       " 'best_score',\n",
       " 'current_iteration',\n",
       " 'dump_model',\n",
       " 'eval',\n",
       " 'eval_train',\n",
       " 'eval_valid',\n",
       " 'feature_importance',\n",
       " 'feature_name',\n",
       " 'free_dataset',\n",
       " 'free_network',\n",
       " 'get_leaf_output',\n",
       " 'get_split_value_histogram',\n",
       " 'handle',\n",
       " 'model_from_string',\n",
       " 'model_to_string',\n",
       " 'name_valid_sets',\n",
       " 'network',\n",
       " 'num_feature',\n",
       " 'num_model_per_iteration',\n",
       " 'num_trees',\n",
       " 'pandas_categorical',\n",
       " 'params',\n",
       " 'predict',\n",
       " 'refit',\n",
       " 'reset_parameter',\n",
       " 'rollback_one_iter',\n",
       " 'save_model',\n",
       " 'set_attr',\n",
       " 'set_network',\n",
       " 'set_train_data_name',\n",
       " 'shuffle_models',\n",
       " 'update']"
      ]
     },
     "execution_count": 43,
     "metadata": {},
     "output_type": "execute_result"
    }
   ],
   "source": [
    "dir(res)"
   ]
  },
  {
   "cell_type": "code",
   "execution_count": 48,
   "metadata": {},
   "outputs": [
    {
     "data": {
      "text/plain": [
       "array([ 199,  825,   17,  564,  705,  610, 1015, 7507, 1199,  456,  361,\n",
       "        686,   79,  595,  116,   11, 1567,    0,  927, 1745, 2279],\n",
       "      dtype=int32)"
      ]
     },
     "execution_count": 48,
     "metadata": {},
     "output_type": "execute_result"
    }
   ],
   "source": [
    "res.feature_importance()"
   ]
  },
  {
   "cell_type": "code",
   "execution_count": 45,
   "metadata": {},
   "outputs": [
    {
     "data": {
      "text/plain": [
       "<lightgbm.basic.Booster at 0x7fc6f65a74a8>"
      ]
     },
     "execution_count": 45,
     "metadata": {},
     "output_type": "execute_result"
    }
   ],
   "source": [
    "res"
   ]
  },
  {
   "cell_type": "code",
   "execution_count": 39,
   "metadata": {},
   "outputs": [],
   "source": [
    "pred = res.predict(input_data)\n",
    "THRESHOLD = 0.5 # to be tuned\n",
    "pred_label = [0 if v<THRESHOLD else 1 for v in pred]\n",
    "Id_list = [i for i in range(0,100000)]\n",
    "submit_df = pd.DataFrame({\"Id\":Id_list,\n",
    "                         \"ChargeOff\":pred_label})"
   ]
  },
  {
   "cell_type": "code",
   "execution_count": 40,
   "metadata": {},
   "outputs": [
    {
     "data": {
      "text/html": [
       "<div>\n",
       "<style scoped>\n",
       "    .dataframe tbody tr th:only-of-type {\n",
       "        vertical-align: middle;\n",
       "    }\n",
       "\n",
       "    .dataframe tbody tr th {\n",
       "        vertical-align: top;\n",
       "    }\n",
       "\n",
       "    .dataframe thead th {\n",
       "        text-align: right;\n",
       "    }\n",
       "</style>\n",
       "<table border=\"1\" class=\"dataframe\">\n",
       "  <thead>\n",
       "    <tr style=\"text-align: right;\">\n",
       "      <th></th>\n",
       "      <th>Id</th>\n",
       "      <th>ChargeOff</th>\n",
       "    </tr>\n",
       "  </thead>\n",
       "  <tbody>\n",
       "    <tr>\n",
       "      <th>0</th>\n",
       "      <td>0</td>\n",
       "      <td>1</td>\n",
       "    </tr>\n",
       "    <tr>\n",
       "      <th>1</th>\n",
       "      <td>1</td>\n",
       "      <td>0</td>\n",
       "    </tr>\n",
       "    <tr>\n",
       "      <th>2</th>\n",
       "      <td>2</td>\n",
       "      <td>1</td>\n",
       "    </tr>\n",
       "    <tr>\n",
       "      <th>3</th>\n",
       "      <td>3</td>\n",
       "      <td>0</td>\n",
       "    </tr>\n",
       "    <tr>\n",
       "      <th>4</th>\n",
       "      <td>4</td>\n",
       "      <td>1</td>\n",
       "    </tr>\n",
       "    <tr>\n",
       "      <th>...</th>\n",
       "      <td>...</td>\n",
       "      <td>...</td>\n",
       "    </tr>\n",
       "    <tr>\n",
       "      <th>99995</th>\n",
       "      <td>99995</td>\n",
       "      <td>0</td>\n",
       "    </tr>\n",
       "    <tr>\n",
       "      <th>99996</th>\n",
       "      <td>99996</td>\n",
       "      <td>1</td>\n",
       "    </tr>\n",
       "    <tr>\n",
       "      <th>99997</th>\n",
       "      <td>99997</td>\n",
       "      <td>0</td>\n",
       "    </tr>\n",
       "    <tr>\n",
       "      <th>99998</th>\n",
       "      <td>99998</td>\n",
       "      <td>0</td>\n",
       "    </tr>\n",
       "    <tr>\n",
       "      <th>99999</th>\n",
       "      <td>99999</td>\n",
       "      <td>1</td>\n",
       "    </tr>\n",
       "  </tbody>\n",
       "</table>\n",
       "<p>100000 rows × 2 columns</p>\n",
       "</div>"
      ],
      "text/plain": [
       "          Id  ChargeOff\n",
       "0          0          1\n",
       "1          1          0\n",
       "2          2          1\n",
       "3          3          0\n",
       "4          4          1\n",
       "...      ...        ...\n",
       "99995  99995          0\n",
       "99996  99996          1\n",
       "99997  99997          0\n",
       "99998  99998          0\n",
       "99999  99999          1\n",
       "\n",
       "[100000 rows x 2 columns]"
      ]
     },
     "execution_count": 40,
     "metadata": {},
     "output_type": "execute_result"
    }
   ],
   "source": [
    "submit_df"
   ]
  },
  {
   "cell_type": "code",
   "execution_count": 41,
   "metadata": {},
   "outputs": [],
   "source": [
    "submit_df.to_csv(\"submit_team666_gbdt128.csv\",encoding='utf-8',index=False)"
   ]
  },
  {
   "cell_type": "code",
   "execution_count": 30,
   "metadata": {},
   "outputs": [],
   "source": [
    "import os"
   ]
  },
  {
   "cell_type": "code",
   "execution_count": 31,
   "metadata": {},
   "outputs": [
    {
     "data": {
      "text/plain": [
       "'/Users/renxinyu/Documents/NUS/CS5228_DATA_MINING/Final Project/cs5228-2021s1_v1'"
      ]
     },
     "execution_count": 31,
     "metadata": {},
     "output_type": "execute_result"
    }
   ],
   "source": [
    "os.getcwd()"
   ]
  },
  {
   "cell_type": "code",
   "execution_count": null,
   "metadata": {},
   "outputs": [],
   "source": []
  }
 ],
 "metadata": {
  "kernelspec": {
   "display_name": "Python 3",
   "language": "python",
   "name": "python3"
  },
  "language_info": {
   "codemirror_mode": {
    "name": "ipython",
    "version": 3
   },
   "file_extension": ".py",
   "mimetype": "text/x-python",
   "name": "python",
   "nbconvert_exporter": "python",
   "pygments_lexer": "ipython3",
   "version": "3.6.12"
  }
 },
 "nbformat": 4,
 "nbformat_minor": 4
}
